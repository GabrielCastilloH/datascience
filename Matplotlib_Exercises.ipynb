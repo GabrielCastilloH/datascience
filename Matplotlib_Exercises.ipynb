{
 "cells": [
  {
   "cell_type": "markdown",
   "metadata": {
    "cell_id": "00000-46e709b6-0248-42fc-bc7b-6a43ec095d40",
    "colab_type": "text",
    "deepnote_cell_type": "markdown",
    "id": "62aBklHO062y"
   },
   "source": [
    "# Matplotlib Exercises"
   ]
  },
  {
   "cell_type": "code",
   "execution_count": 1,
   "metadata": {
    "cell_id": "00001-c127555f-83b2-4db5-bf0f-3c93a84010e4",
    "colab": {},
    "colab_type": "code",
    "deepnote_cell_type": "code",
    "deepnote_to_be_reexecuted": false,
    "execution_millis": 1132,
    "execution_start": 1625522960806,
    "id": "5BPzhruU08-J",
    "source_hash": "8c0f9060"
   },
   "outputs": [],
   "source": [
    "import matplotlib.pyplot as plt\n",
    "import numpy as np\n",
    "import seaborn as sns\n",
    "import pandas as pd"
   ]
  },
  {
   "cell_type": "markdown",
   "metadata": {
    "cell_id": "00002-38b3a9f2-6798-4580-bc3e-5d7e837843e8",
    "colab_type": "text",
    "deepnote_cell_type": "markdown",
    "id": "5RSW40kR1Vzz"
   },
   "source": [
    "Below are the temperatures in degrees Celsius for this day (July 10) in Boston each year from 1961 to 2010. Plot the dates on the x-axis and temperatures on the y-axis."
   ]
  },
  {
   "cell_type": "code",
   "execution_count": 2,
   "metadata": {
    "cell_id": "00003-9fb03ec4-3c99-4eea-8d21-b7566cb77495",
    "colab": {},
    "colab_type": "code",
    "deepnote_cell_type": "code",
    "deepnote_to_be_reexecuted": false,
    "execution_millis": 3,
    "execution_start": 1625522961951,
    "id": "4rqalSZf1Yjq",
    "source_hash": "ae0e45c4"
   },
   "outputs": [],
   "source": [
    "temp_boston = [17.8, 22.8, 17.5, 16.4, 23.35, 25.3, 27.25, 24.45, 22.5, 23.6, 26.7, 22.75, 21.95, 26.4,\n",
    "23.05, 22.5, 21.1, 26.1, 23.9, 20.25, 27.8, 23.9, 21.7, 19.7, 25.0, 21.4, 21.1, 27.8, 22.25, 27.25, \n",
    "23.35, 25.0, 30.0, 25.8, 23.6, 22.5,19.15, 22.8, 23.6, 25.0, 20.8, 21.4, 18.6, 23.05, 25.0, 25.0,\n",
    "18.35, 25.3, 18.6]"
   ]
  },
  {
   "cell_type": "code",
   "execution_count": null,
   "metadata": {
    "cell_id": "00004-c257d431-302c-4de6-bc3b-fa9f9f20170c",
    "colab": {},
    "colab_type": "code",
    "deepnote_cell_type": "code",
    "id": "7FwkcZzK1b-s"
   },
   "outputs": [],
   "source": [
    "# YOUR CODE HERE"
   ]
  },
  {
   "cell_type": "markdown",
   "metadata": {
    "cell_id": "00005-a9e2697a-81fd-4771-9f81-0417a2737e3e",
    "colab_type": "text",
    "deepnote_cell_type": "markdown",
    "id": "IqPLuWxZ10ZB"
   },
   "source": [
    "Now below is the temperature in degrees Celsius for this day (July 10) each year in New York from 1961 to 2010. Plot the temperatures of New York and Boston on the same graph in different colors."
   ]
  },
  {
   "cell_type": "code",
   "execution_count": null,
   "metadata": {
    "cell_id": "00006-bc0baf77-674f-480b-9597-6e9afb5faafc",
    "colab": {},
    "colab_type": "code",
    "deepnote_cell_type": "code",
    "id": "LDu1bMEy1gM6"
   },
   "outputs": [],
   "source": [
    "temp_new_york =[23.35, 25.25, 20.25, 22.25, 25.85, 25.85, 25.55, 24.2, 22.5, 23.9, 28.3, 22.8, 26.7,\n",
    "29.7, 23.6, 22.8, 23.05, 26.7, 20.3, 23.65, 28.05, 25.0, 21.4, 21.35, 26.1, 25.25, 28.35, 25.85, 27.5,\n",
    "26.4, 21.7, 27.2, 32.25, 28.3, 22.5, 23.05, 22.8, 25.0, 24.7, 27.5, 25.85, 24.45, 20.0, 24.15, 26.95,\n",
    "22.5, 25.85, 27.25, 19.4]"
   ]
  },
  {
   "cell_type": "code",
   "execution_count": null,
   "metadata": {
    "cell_id": "00007-8fde4a90-82f8-4869-a930-31e8b28b4f75",
    "colab": {},
    "colab_type": "code",
    "deepnote_cell_type": "code",
    "id": "PF0sY5F013tJ"
   },
   "outputs": [],
   "source": [
    "# YOUR CODE HERE"
   ]
  },
  {
   "cell_type": "markdown",
   "metadata": {
    "cell_id": "00008-ca29964c-6dac-490a-8829-55b3d9eb2e82",
    "colab_type": "text",
    "deepnote_cell_type": "markdown",
    "id": "sNTQP1WC17TT"
   },
   "source": [
    "Plot the temperatures of New York and Boston on different graphs in the same figure¶"
   ]
  },
  {
   "cell_type": "code",
   "execution_count": null,
   "metadata": {
    "cell_id": "00009-7a2811e7-ff51-4010-a732-1dd468480ff8",
    "colab": {},
    "colab_type": "code",
    "deepnote_cell_type": "code",
    "id": "vMLUmGgX18ZM"
   },
   "outputs": [],
   "source": [
    "# YOUR CODE HERE"
   ]
  },
  {
   "cell_type": "markdown",
   "metadata": {
    "cell_id": "00010-3e25a862-0014-4b57-b52c-9b9d1e2073ea",
    "colab_type": "text",
    "deepnote_cell_type": "markdown",
    "id": "GcAKU8n-lLFc"
   },
   "source": [
    "Univariate Analysis\n",
    "\n",
    "---\n"
   ]
  },
  {
   "cell_type": "markdown",
   "metadata": {
    "cell_id": "00011-4a64570d-115d-4966-bbf3-bdcdedbcef19",
    "colab_type": "text",
    "deepnote_cell_type": "markdown",
    "id": "dfGrcCTRt3-Q"
   },
   "source": [
    "Read the csv file into a dataframe and print the first 7 rows"
   ]
  },
  {
   "cell_type": "code",
   "execution_count": null,
   "metadata": {
    "cell_id": "00012-3aed79bd-0c38-4024-95fa-f9f5d82354d1",
    "colab": {},
    "colab_type": "code",
    "deepnote_cell_type": "code",
    "deepnote_to_be_reexecuted": false,
    "execution_millis": 3,
    "execution_start": 1625522966311,
    "id": "KBp3-kGns6LM",
    "source_hash": "3f8bf0b9"
   },
   "outputs": [],
   "source": [
    "path = 'extendedDiabetes.csv'\n",
    "\n",
    "# YOUR CODE HERE"
   ]
  },
  {
   "cell_type": "markdown",
   "metadata": {
    "cell_id": "00013-2e55f9fc-d949-4eca-a915-82e597209e19",
    "colab_type": "text",
    "deepnote_cell_type": "markdown",
    "id": "wtOdaXyhuO8_"
   },
   "source": [
    "Conduct a Univariate Analysis of the participants' Cholesterol. What is noticeable about it? Create a function that normalizes the participants' Cholesterol and create two visualizations, one before the `\"Chol\"` data is modified, and one after normalizing the `\"Chol\"` data."
   ]
  },
  {
   "cell_type": "code",
   "execution_count": null,
   "metadata": {
    "cell_id": "00014-486597e0-cf29-4fd9-a667-db51dae2249a",
    "colab": {},
    "colab_type": "code",
    "deepnote_cell_type": "code",
    "id": "ub7tLlnjtxCA"
   },
   "outputs": [],
   "source": [
    "# YOUR CODE HERE"
   ]
  },
  {
   "cell_type": "markdown",
   "metadata": {
    "cell_id": "00015-43886103-45c7-4dc0-aabb-f5fa9a615045",
    "colab_type": "text",
    "deepnote_cell_type": "markdown",
    "id": "QaB2YCMIuTNH"
   },
   "source": [
    "Bivariate Analysis\n",
    "\n",
    "---"
   ]
  },
  {
   "cell_type": "markdown",
   "metadata": {
    "cell_id": "00016-0eb52901-4cf8-4885-b39c-478a4d6e6ecb",
    "colab_type": "text",
    "deepnote_cell_type": "markdown",
    "id": "E5FzaWsyufXy"
   },
   "source": [
    "Conduct a Bivariate Analysis for `\"Protein\"` and `\"Chol\"`. What is familar about this compared to the tutorial? What is another way to deal with overplotting other than the Hex plot? Create two data visualizations, one that shows the overplotting, another that resolves this issue. After you are done, play around with the sns.kdeplot function or try to create a 3D graph to reduce the effects of overplotting."
   ]
  },
  {
   "cell_type": "code",
   "execution_count": null,
   "metadata": {
    "cell_id": "00017-b09af103-d2a0-4253-9893-fe8b2e4acd0e",
    "colab": {},
    "colab_type": "code",
    "deepnote_cell_type": "code",
    "id": "w5tGZu0zP4jE"
   },
   "outputs": [],
   "source": [
    "# YOUR CODE HERE"
   ]
  },
  {
   "cell_type": "markdown",
   "metadata": {
    "cell_id": "00018-4bb4c04a-ff6f-4d3e-8817-b2b31ba133fb",
    "colab_type": "text",
    "deepnote_cell_type": "markdown",
    "id": "sv_3v0gL3I7V"
   },
   "source": [
    "If you have time here are some challenge python problems\n",
    "\n",
    "---"
   ]
  },
  {
   "cell_type": "markdown",
   "metadata": {
    "cell_id": "00019-e558312b-2f36-4621-b2e6-68d4a5a73f21",
    "colab_type": "text",
    "deepnote_cell_type": "markdown",
    "id": "QNEH7fO23PCK"
   },
   "source": [
    "As depicted below, create a numpy array of zeros (a) and an array of ones (b). Using slicing and assignment, update a using b, so that a is the array on the right side of the arrow. <br>\n",
    "hint: use np.zeros and np.ones\n"
   ]
  },
  {
   "cell_type": "code",
   "execution_count": null,
   "metadata": {
    "cell_id": "00020-1bf98c74-bd8e-4694-a2f0-ed5c08acfadc",
    "colab": {},
    "colab_type": "code",
    "deepnote_cell_type": "code",
    "id": "OZfpY4943Pki"
   },
   "outputs": [],
   "source": [
    "# 0 0 0 0 0 0                  0 0 0 0 0 0\n",
    "# 0 0 0 0 0 0    1 1 1  --->   0 0 0 0 0 0\n",
    "# 0 0 0 0 0 0    1 1 1         0 0 1 1 1 0\n",
    "# 0 0 0 0 0 0                  0 0 1 1 1 0"
   ]
  },
  {
   "cell_type": "code",
   "execution_count": null,
   "metadata": {
    "cell_id": "00021-603ed7ac-dd75-4ed3-835a-3c277135a359",
    "colab": {},
    "colab_type": "code",
    "deepnote_cell_type": "code",
    "id": "NOHGOiQX3Po6"
   },
   "outputs": [],
   "source": [
    "# YOUR CODE HERE\n"
   ]
  },
  {
   "cell_type": "markdown",
   "metadata": {
    "cell_id": "00022-1cd21215-b5d0-4202-99d1-e1f0d760efc2",
    "colab_type": "text",
    "deepnote_cell_type": "markdown",
    "id": "uOImCP-Z3QAy"
   },
   "source": [
    "Fill in the function below. The function recieves a non-empty string and an int n, and returns a new string where the character at index n has been removed.¶\n"
   ]
  },
  {
   "cell_type": "code",
   "execution_count": 4,
   "metadata": {
    "cell_id": "00023-7241211c-02b8-4a9e-960a-76f878c4d6a1",
    "colab": {},
    "colab_type": "code",
    "deepnote_cell_type": "code",
    "deepnote_to_be_reexecuted": false,
    "execution_millis": 254,
    "execution_start": 1625522970074,
    "id": "tqaqr_wl3QSb",
    "source_hash": "6d5ee00b"
   },
   "outputs": [
    {
     "ename": "NameError",
     "evalue": "name 'new_string' is not defined",
     "output_type": "error",
     "traceback": [
      "\u001b[0;31m---------------------------------------------------------------------------\u001b[0m",
      "\u001b[0;31mNameError\u001b[0m                                 Traceback (most recent call last)",
      "\u001b[0;32m<ipython-input-4-dc861f27a96e>\u001b[0m in \u001b[0;36m<module>\u001b[0;34m\u001b[0m\n\u001b[1;32m      3\u001b[0m     \u001b[0;32mreturn\u001b[0m \u001b[0mnew_string\u001b[0m\u001b[0;34m\u001b[0m\u001b[0;34m\u001b[0m\u001b[0m\n\u001b[1;32m      4\u001b[0m \u001b[0;34m\u001b[0m\u001b[0m\n\u001b[0;32m----> 5\u001b[0;31m \u001b[0mremove_char\u001b[0m\u001b[0;34m(\u001b[0m\u001b[0;34m\"words\"\u001b[0m\u001b[0;34m,\u001b[0m \u001b[0;34m\"o\"\u001b[0m\u001b[0;34m)\u001b[0m\u001b[0;34m\u001b[0m\u001b[0;34m\u001b[0m\u001b[0m\n\u001b[0m\u001b[1;32m      6\u001b[0m \u001b[0;34m\"words\"\u001b[0m\u001b[0;34m[\u001b[0m\u001b[0mlen\u001b[0m\u001b[0;34m(\u001b[0m\u001b[0;34m\"words\"\u001b[0m\u001b[0;34m)\u001b[0m\u001b[0;34m-\u001b[0m\u001b[0;36m1\u001b[0m\u001b[0;34m:\u001b[0m\u001b[0;34m]\u001b[0m\u001b[0;34m\u001b[0m\u001b[0;34m\u001b[0m\u001b[0m\n",
      "\u001b[0;32m<ipython-input-4-dc861f27a96e>\u001b[0m in \u001b[0;36mremove_char\u001b[0;34m(old_string, n)\u001b[0m\n\u001b[1;32m      1\u001b[0m \u001b[0;32mdef\u001b[0m \u001b[0mremove_char\u001b[0m\u001b[0;34m(\u001b[0m\u001b[0mold_string\u001b[0m\u001b[0;34m,\u001b[0m \u001b[0mn\u001b[0m\u001b[0;34m)\u001b[0m\u001b[0;34m:\u001b[0m\u001b[0;34m\u001b[0m\u001b[0;34m\u001b[0m\u001b[0m\n\u001b[1;32m      2\u001b[0m     \u001b[0;31m# YOUR CODE HERE\u001b[0m\u001b[0;34m\u001b[0m\u001b[0;34m\u001b[0m\u001b[0;34m\u001b[0m\u001b[0m\n\u001b[0;32m----> 3\u001b[0;31m     \u001b[0;32mreturn\u001b[0m \u001b[0mnew_string\u001b[0m\u001b[0;34m\u001b[0m\u001b[0;34m\u001b[0m\u001b[0m\n\u001b[0m\u001b[1;32m      4\u001b[0m \u001b[0;34m\u001b[0m\u001b[0m\n\u001b[1;32m      5\u001b[0m \u001b[0mremove_char\u001b[0m\u001b[0;34m(\u001b[0m\u001b[0;34m\"words\"\u001b[0m\u001b[0;34m,\u001b[0m \u001b[0;34m\"o\"\u001b[0m\u001b[0;34m)\u001b[0m\u001b[0;34m\u001b[0m\u001b[0;34m\u001b[0m\u001b[0m\n",
      "\u001b[0;31mNameError\u001b[0m: name 'new_string' is not defined"
     ]
    }
   ],
   "source": [
    "def remove_char(old_string, n):\n",
    "    # YOUR CODE HERE\n",
    "    return new_string\n",
    "\n",
    "remove_char(\"words\", \"o\")\n",
    "\"words\"[len(\"words\")-1:]"
   ]
  },
  {
   "cell_type": "markdown",
   "metadata": {
    "cell_id": "00024-a52d746e-26da-42f6-9801-a4f2b8d9eec3",
    "colab_type": "text",
    "deepnote_cell_type": "markdown",
    "id": "2xl10TMi3R3T"
   },
   "source": [
    "Given a string, return a new string where the first and last characters have been exchanged."
   ]
  },
  {
   "cell_type": "code",
   "execution_count": null,
   "metadata": {
    "cell_id": "00025-b6142dea-5a5c-4317-bf57-676ef20659da",
    "colab": {},
    "colab_type": "code",
    "deepnote_cell_type": "code",
    "id": "G3aMdeSv3R_B"
   },
   "outputs": [],
   "source": [
    "def swap_chars(old_string):\n",
    "  # YOUR CODE HERE\n"
   ]
  },
  {
   "cell_type": "markdown",
   "metadata": {
    "cell_id": "00026-63175f19-1365-452a-ae19-8b1ae0b5ac59",
    "colab_type": "text",
    "deepnote_cell_type": "markdown",
    "id": "ijou0sJ33SDp"
   },
   "source": [
    "Test the function with three different parameters\n"
   ]
  },
  {
   "cell_type": "code",
   "execution_count": null,
   "metadata": {
    "cell_id": "00027-2e0badcf-b6e4-4826-b0c5-217afb479823",
    "colab": {},
    "colab_type": "code",
    "deepnote_cell_type": "code",
    "id": "oBzMdJLZ3NvL"
   },
   "outputs": [],
   "source": [
    "# YOUR CODE HERE"
   ]
  },
  {
   "cell_type": "markdown",
   "metadata": {
    "created_in_deepnote_cell": true,
    "deepnote_cell_type": "markdown",
    "tags": []
   },
   "source": [
    "<a style='text-decoration:none;line-height:16px;display:flex;color:#5B5B62;padding:10px;justify-content:end;' href='https://deepnote.com?utm_source=created-in-deepnote-cell&projectId=f3d2e979-42f4-4fa4-a66a-116a1c2662d5' target=\"_blank\">\n",
    "<img alt='Created in deepnote.com' style='display:inline;max-height:16px;margin:0px;margin-right:7.5px;' src='data:image/svg+xml;base64,PD94bWwgdmVyc2lvbj0iMS4wIiBlbmNvZGluZz0iVVRGLTgiPz4KPHN2ZyB3aWR0aD0iODBweCIgaGVpZ2h0PSI4MHB4IiB2aWV3Qm94PSIwIDAgODAgODAiIHZlcnNpb249IjEuMSIgeG1sbnM9Imh0dHA6Ly93d3cudzMub3JnLzIwMDAvc3ZnIiB4bWxuczp4bGluaz0iaHR0cDovL3d3dy53My5vcmcvMTk5OS94bGluayI+CiAgICA8IS0tIEdlbmVyYXRvcjogU2tldGNoIDU0LjEgKDc2NDkwKSAtIGh0dHBzOi8vc2tldGNoYXBwLmNvbSAtLT4KICAgIDx0aXRsZT5Hcm91cCAzPC90aXRsZT4KICAgIDxkZXNjPkNyZWF0ZWQgd2l0aCBTa2V0Y2guPC9kZXNjPgogICAgPGcgaWQ9IkxhbmRpbmciIHN0cm9rZT0ibm9uZSIgc3Ryb2tlLXdpZHRoPSIxIiBmaWxsPSJub25lIiBmaWxsLXJ1bGU9ImV2ZW5vZGQiPgogICAgICAgIDxnIGlkPSJBcnRib2FyZCIgdHJhbnNmb3JtPSJ0cmFuc2xhdGUoLTEyMzUuMDAwMDAwLCAtNzkuMDAwMDAwKSI+CiAgICAgICAgICAgIDxnIGlkPSJHcm91cC0zIiB0cmFuc2Zvcm09InRyYW5zbGF0ZSgxMjM1LjAwMDAwMCwgNzkuMDAwMDAwKSI+CiAgICAgICAgICAgICAgICA8cG9seWdvbiBpZD0iUGF0aC0yMCIgZmlsbD0iIzAyNjVCNCIgcG9pbnRzPSIyLjM3NjIzNzYyIDgwIDM4LjA0NzY2NjcgODAgNTcuODIxNzgyMiA3My44MDU3NTkyIDU3LjgyMTc4MjIgMzIuNzU5MjczOSAzOS4xNDAyMjc4IDMxLjY4MzE2ODMiPjwvcG9seWdvbj4KICAgICAgICAgICAgICAgIDxwYXRoIGQ9Ik0zNS4wMDc3MTgsODAgQzQyLjkwNjIwMDcsNzYuNDU0OTM1OCA0Ny41NjQ5MTY3LDcxLjU0MjI2NzEgNDguOTgzODY2LDY1LjI2MTk5MzkgQzUxLjExMjI4OTksNTUuODQxNTg0MiA0MS42NzcxNzk1LDQ5LjIxMjIyODQgMjUuNjIzOTg0Niw0OS4yMTIyMjg0IEMyNS40ODQ5Mjg5LDQ5LjEyNjg0NDggMjkuODI2MTI5Niw0My4yODM4MjQ4IDM4LjY0NzU4NjksMzEuNjgzMTY4MyBMNzIuODcxMjg3MSwzMi41NTQ0MjUgTDY1LjI4MDk3Myw2Ny42NzYzNDIxIEw1MS4xMTIyODk5LDc3LjM3NjE0NCBMMzUuMDA3NzE4LDgwIFoiIGlkPSJQYXRoLTIyIiBmaWxsPSIjMDAyODY4Ij48L3BhdGg+CiAgICAgICAgICAgICAgICA8cGF0aCBkPSJNMCwzNy43MzA0NDA1IEwyNy4xMTQ1MzcsMC4yNTcxMTE0MzYgQzYyLjM3MTUxMjMsLTEuOTkwNzE3MDEgODAsMTAuNTAwMzkyNyA4MCwzNy43MzA0NDA1IEM4MCw2NC45NjA0ODgyIDY0Ljc3NjUwMzgsNzkuMDUwMzQxNCAzNC4zMjk1MTEzLDgwIEM0Ny4wNTUzNDg5LDc3LjU2NzA4MDggNTMuNDE4MjY3Nyw3MC4zMTM2MTAzIDUzLjQxODI2NzcsNTguMjM5NTg4NSBDNTMuNDE4MjY3Nyw0MC4xMjg1NTU3IDM2LjMwMzk1NDQsMzcuNzMwNDQwNSAyNS4yMjc0MTcsMzcuNzMwNDQwNSBDMTcuODQzMDU4NiwzNy43MzA0NDA1IDkuNDMzOTE5NjYsMzcuNzMwNDQwNSAwLDM3LjczMDQ0MDUgWiIgaWQ9IlBhdGgtMTkiIGZpbGw9IiMzNzkzRUYiPjwvcGF0aD4KICAgICAgICAgICAgPC9nPgogICAgICAgIDwvZz4KICAgIDwvZz4KPC9zdmc+' > </img>\n",
    "Created in <span style='font-weight:600;margin-left:4px;'>Deepnote</span></a>"
   ]
  }
 ],
 "metadata": {
  "colab": {
   "collapsed_sections": [],
   "name": "Matplotlib_Exercises",
   "provenance": []
  },
  "deepnote": {},
  "deepnote_execution_queue": [],
  "deepnote_notebook_id": "74dee5ec-ead1-485b-83c3-ee921ac09f7f",
  "kernelspec": {
   "display_name": "3350",
   "language": "python",
   "name": "python3"
  },
  "language_info": {
   "codemirror_mode": {
    "name": "ipython",
    "version": 3
   },
   "file_extension": ".py",
   "mimetype": "text/x-python",
   "name": "python",
   "nbconvert_exporter": "python",
   "pygments_lexer": "ipython3",
   "version": "3.12.0"
  }
 },
 "nbformat": 4,
 "nbformat_minor": 0
}
