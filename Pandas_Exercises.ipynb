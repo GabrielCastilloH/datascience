{
 "cells": [
  {
   "cell_type": "markdown",
   "metadata": {
    "cell_id": "00000-a1a70b45-4173-41c3-bd0f-1c7334aedbc1",
    "colab_type": "text",
    "deepnote_cell_type": "markdown",
    "id": "bSU6eKZTdMXZ"
   },
   "source": [
    "# Pandas Exercises"
   ]
  },
  {
   "cell_type": "code",
   "execution_count": 1,
   "metadata": {
    "cell_id": "00001-c6d0491e-81bf-48bb-9f7d-2474bd25924c",
    "colab": {},
    "colab_type": "code",
    "deepnote_cell_type": "code",
    "deepnote_to_be_reexecuted": false,
    "execution_millis": 4,
    "execution_start": 1625522830394,
    "id": "c5ewTg7vdQFm",
    "source_hash": "73161b4"
   },
   "outputs": [],
   "source": [
    "import pandas as pd\n",
    "\n",
    "path = \"diabetes.csv\"\n",
    "names = ['preg', 'plas', 'pres', 'skin', 'test', 'mass', 'pedi', 'age', 'class']"
   ]
  },
  {
   "cell_type": "markdown",
   "metadata": {
    "cell_id": "00002-042a372d-c00c-4c1f-ac93-787afa44b1e9",
    "colab_type": "text",
    "deepnote_cell_type": "markdown",
    "id": "QOLgFaSKeShR"
   },
   "source": [
    "Read in csv above to a pandas dataframe"
   ]
  },
  {
   "cell_type": "code",
   "execution_count": null,
   "metadata": {
    "cell_id": "00003-3853efa3-180b-4c70-8be9-3a18524779a8",
    "colab": {},
    "colab_type": "code",
    "deepnote_cell_type": "code",
    "id": "Okcb8dnXeX2C"
   },
   "outputs": [
    {
     "name": "stdout",
     "output_type": "stream",
     "text": [
      "   preg  plas  pres  skin  test  mass   pedi  age  class\n",
      "0     6   148    72    35     0  33.6  0.627   50      1\n",
      "1     1    85    66    29     0  26.6  0.351   31      0\n",
      "2     8   183    64     0     0  23.3  0.672   32      1\n",
      "3     1    89    66    23    94  28.1  0.167   21      0\n",
      "4     0   137    40    35   168  43.1  2.288   33      1\n",
      "\n",
      "Dataframe shape: (768, 9)\n"
     ]
    }
   ],
   "source": [
    "data = pd.read_csv(path, names=names)\n",
    "print(data.head())\n",
    "print(f\"\\nDataframe shape: {data.shape}\")"
   ]
  },
  {
   "cell_type": "markdown",
   "metadata": {
    "cell_id": "00004-7ec9296d-24bf-4019-8f5a-c844c6b8cb1a",
    "colab_type": "text",
    "deepnote_cell_type": "markdown",
    "id": "d4DyOsuoewE2"
   },
   "source": [
    "Print out the age and class of the 100th patient"
   ]
  },
  {
   "cell_type": "code",
   "execution_count": null,
   "metadata": {
    "cell_id": "00005-0056ddb4-3287-41f8-834d-5ece93cf6909",
    "colab": {},
    "colab_type": "code",
    "deepnote_cell_type": "code",
    "id": "xZqBsg39eY8_"
   },
   "outputs": [
    {
     "name": "stdout",
     "output_type": "stream",
     "text": [
      "100th patient:\n",
      "Age: 31.0\n",
      "Class: 1.0\n"
     ]
    }
   ],
   "source": [
    "print(f\"100th patient:\")\n",
    "print(f\"Age: {data.iloc[99]['age']}\")\n",
    "print(f\"Class: {data.iloc[99]['class']}\")"
   ]
  },
  {
   "cell_type": "markdown",
   "metadata": {
    "cell_id": "00006-82daaf2f-3e31-463a-9b7a-53799ab84fef",
    "colab_type": "text",
    "deepnote_cell_type": "markdown",
    "id": "j8L2EM-5iOWc"
   },
   "source": [
    "Write code to figure out how many people are classified as not having diabetes, class is 0"
   ]
  },
  {
   "cell_type": "code",
   "execution_count": null,
   "metadata": {
    "cell_id": "00007-2d900e3b-23a6-403c-9bde-7e09d0510fcd",
    "colab": {},
    "colab_type": "code",
    "deepnote_cell_type": "code",
    "id": "vohzS51WiWvD"
   },
   "outputs": [
    {
     "name": "stdout",
     "output_type": "stream",
     "text": [
      "Number of people without diabetes (class = 0): 500\n"
     ]
    }
   ],
   "source": [
    "no_diabetes = (data['class'] == 0).sum()\n",
    "print(f\"Number of people without diabetes (class = 0): {no_diabetes}\")"
   ]
  },
  {
   "cell_type": "markdown",
   "metadata": {
    "cell_id": "00008-389ce810-0027-4af4-b4bf-a5bdc38c1573",
    "colab_type": "text",
    "deepnote_cell_type": "markdown",
    "id": "ieGRz4iiiX4E"
   },
   "source": [
    "Write code to figure out how many people are classified as having diabetes, class is 1"
   ]
  },
  {
   "cell_type": "code",
   "execution_count": null,
   "metadata": {
    "cell_id": "00009-5eb55bcc-0b10-4a59-a3de-fad689a23fe1",
    "colab": {},
    "colab_type": "code",
    "deepnote_cell_type": "code",
    "id": "-jq2O-vriXRT"
   },
   "outputs": [
    {
     "name": "stdout",
     "output_type": "stream",
     "text": [
      "Number of people with diabetes (class = 1): 268\n"
     ]
    }
   ],
   "source": [
    "has_diabetes = (data['class'] == 1).sum()\n",
    "print(f\"Number of people with diabetes (class = 1): {has_diabetes}\")"
   ]
  },
  {
   "cell_type": "markdown",
   "metadata": {
    "cell_id": "00010-31b5f7c6-ea56-457b-ae9c-72ab86c5c567",
    "colab_type": "text",
    "deepnote_cell_type": "markdown",
    "id": "oeFT7T9OnuSd"
   },
   "source": [
    "What percent of people have diabetes in the study"
   ]
  },
  {
   "cell_type": "code",
   "execution_count": null,
   "metadata": {
    "cell_id": "00011-a33c8893-4cbc-42b5-898d-e3115c13e329",
    "colab": {},
    "colab_type": "code",
    "deepnote_cell_type": "code",
    "id": "zGGHptFYnwq0"
   },
   "outputs": [
    {
     "name": "stdout",
     "output_type": "stream",
     "text": [
      "Percentage of people with diabetes: 34.90%\n"
     ]
    }
   ],
   "source": [
    "total_people = len(data)\n",
    "has_diabetes = (data['class'] == 1).sum()\n",
    "percentage = (has_diabetes / total_people) * 100\n",
    "print(f\"Percentage of people with diabetes: {percentage:.2f}%\")"
   ]
  },
  {
   "cell_type": "markdown",
   "metadata": {
    "cell_id": "00012-5080ee0d-b515-4ca1-954d-63144b849480",
    "colab_type": "text",
    "deepnote_cell_type": "markdown",
    "id": "nbrjnRPafs0p"
   },
   "source": [
    "Print out the `\"pres\"` and `\"class\"` (no other columns) for the first 5 people"
   ]
  },
  {
   "cell_type": "code",
   "execution_count": null,
   "metadata": {
    "cell_id": "00013-52905732-b305-424f-98c1-182e4ababc0c",
    "colab": {},
    "colab_type": "code",
    "deepnote_cell_type": "code",
    "id": "GiNCJ19KfHJQ"
   },
   "outputs": [
    {
     "name": "stdout",
     "output_type": "stream",
     "text": [
      "   pres  class\n",
      "0    72      1\n",
      "1    66      0\n",
      "2    64      1\n",
      "3    66      0\n",
      "4    40      1\n"
     ]
    }
   ],
   "source": [
    "print(data[['pres', 'class']].head())"
   ]
  },
  {
   "cell_type": "markdown",
   "metadata": {
    "cell_id": "00014-f3aad72a-9f72-4fb7-9d82-8d10b502d48a",
    "colab_type": "text",
    "deepnote_cell_type": "markdown",
    "id": "O-CcsoqlhxUn"
   },
   "source": [
    "Run the cell below, it will print out the correlation among the columns"
   ]
  },
  {
   "cell_type": "code",
   "execution_count": 8,
   "metadata": {
    "cell_id": "00015-2172a85f-0f52-484b-a29e-5c3e48658917",
    "colab": {},
    "colab_type": "code",
    "deepnote_cell_type": "code",
    "id": "pXpVFt6MffQt"
   },
   "outputs": [
    {
     "data": {
      "text/html": [
       "<div>\n",
       "<style scoped>\n",
       "    .dataframe tbody tr th:only-of-type {\n",
       "        vertical-align: middle;\n",
       "    }\n",
       "\n",
       "    .dataframe tbody tr th {\n",
       "        vertical-align: top;\n",
       "    }\n",
       "\n",
       "    .dataframe thead th {\n",
       "        text-align: right;\n",
       "    }\n",
       "</style>\n",
       "<table border=\"1\" class=\"dataframe\">\n",
       "  <thead>\n",
       "    <tr style=\"text-align: right;\">\n",
       "      <th></th>\n",
       "      <th>preg</th>\n",
       "      <th>plas</th>\n",
       "      <th>pres</th>\n",
       "      <th>skin</th>\n",
       "      <th>test</th>\n",
       "      <th>mass</th>\n",
       "      <th>pedi</th>\n",
       "      <th>age</th>\n",
       "      <th>class</th>\n",
       "    </tr>\n",
       "  </thead>\n",
       "  <tbody>\n",
       "    <tr>\n",
       "      <th>preg</th>\n",
       "      <td>1.000000</td>\n",
       "      <td>0.129459</td>\n",
       "      <td>0.141282</td>\n",
       "      <td>-0.081672</td>\n",
       "      <td>-0.073535</td>\n",
       "      <td>0.017683</td>\n",
       "      <td>-0.033523</td>\n",
       "      <td>0.544341</td>\n",
       "      <td>0.221898</td>\n",
       "    </tr>\n",
       "    <tr>\n",
       "      <th>plas</th>\n",
       "      <td>0.129459</td>\n",
       "      <td>1.000000</td>\n",
       "      <td>0.152590</td>\n",
       "      <td>0.057328</td>\n",
       "      <td>0.331357</td>\n",
       "      <td>0.221071</td>\n",
       "      <td>0.137337</td>\n",
       "      <td>0.263514</td>\n",
       "      <td>0.466581</td>\n",
       "    </tr>\n",
       "    <tr>\n",
       "      <th>pres</th>\n",
       "      <td>0.141282</td>\n",
       "      <td>0.152590</td>\n",
       "      <td>1.000000</td>\n",
       "      <td>0.207371</td>\n",
       "      <td>0.088933</td>\n",
       "      <td>0.281805</td>\n",
       "      <td>0.041265</td>\n",
       "      <td>0.239528</td>\n",
       "      <td>0.065068</td>\n",
       "    </tr>\n",
       "    <tr>\n",
       "      <th>skin</th>\n",
       "      <td>-0.081672</td>\n",
       "      <td>0.057328</td>\n",
       "      <td>0.207371</td>\n",
       "      <td>1.000000</td>\n",
       "      <td>0.436783</td>\n",
       "      <td>0.392573</td>\n",
       "      <td>0.183928</td>\n",
       "      <td>-0.113970</td>\n",
       "      <td>0.074752</td>\n",
       "    </tr>\n",
       "    <tr>\n",
       "      <th>test</th>\n",
       "      <td>-0.073535</td>\n",
       "      <td>0.331357</td>\n",
       "      <td>0.088933</td>\n",
       "      <td>0.436783</td>\n",
       "      <td>1.000000</td>\n",
       "      <td>0.197859</td>\n",
       "      <td>0.185071</td>\n",
       "      <td>-0.042163</td>\n",
       "      <td>0.130548</td>\n",
       "    </tr>\n",
       "    <tr>\n",
       "      <th>mass</th>\n",
       "      <td>0.017683</td>\n",
       "      <td>0.221071</td>\n",
       "      <td>0.281805</td>\n",
       "      <td>0.392573</td>\n",
       "      <td>0.197859</td>\n",
       "      <td>1.000000</td>\n",
       "      <td>0.140647</td>\n",
       "      <td>0.036242</td>\n",
       "      <td>0.292695</td>\n",
       "    </tr>\n",
       "    <tr>\n",
       "      <th>pedi</th>\n",
       "      <td>-0.033523</td>\n",
       "      <td>0.137337</td>\n",
       "      <td>0.041265</td>\n",
       "      <td>0.183928</td>\n",
       "      <td>0.185071</td>\n",
       "      <td>0.140647</td>\n",
       "      <td>1.000000</td>\n",
       "      <td>0.033561</td>\n",
       "      <td>0.173844</td>\n",
       "    </tr>\n",
       "    <tr>\n",
       "      <th>age</th>\n",
       "      <td>0.544341</td>\n",
       "      <td>0.263514</td>\n",
       "      <td>0.239528</td>\n",
       "      <td>-0.113970</td>\n",
       "      <td>-0.042163</td>\n",
       "      <td>0.036242</td>\n",
       "      <td>0.033561</td>\n",
       "      <td>1.000000</td>\n",
       "      <td>0.238356</td>\n",
       "    </tr>\n",
       "    <tr>\n",
       "      <th>class</th>\n",
       "      <td>0.221898</td>\n",
       "      <td>0.466581</td>\n",
       "      <td>0.065068</td>\n",
       "      <td>0.074752</td>\n",
       "      <td>0.130548</td>\n",
       "      <td>0.292695</td>\n",
       "      <td>0.173844</td>\n",
       "      <td>0.238356</td>\n",
       "      <td>1.000000</td>\n",
       "    </tr>\n",
       "  </tbody>\n",
       "</table>\n",
       "</div>"
      ],
      "text/plain": [
       "           preg      plas      pres      skin      test      mass      pedi  \\\n",
       "preg   1.000000  0.129459  0.141282 -0.081672 -0.073535  0.017683 -0.033523   \n",
       "plas   0.129459  1.000000  0.152590  0.057328  0.331357  0.221071  0.137337   \n",
       "pres   0.141282  0.152590  1.000000  0.207371  0.088933  0.281805  0.041265   \n",
       "skin  -0.081672  0.057328  0.207371  1.000000  0.436783  0.392573  0.183928   \n",
       "test  -0.073535  0.331357  0.088933  0.436783  1.000000  0.197859  0.185071   \n",
       "mass   0.017683  0.221071  0.281805  0.392573  0.197859  1.000000  0.140647   \n",
       "pedi  -0.033523  0.137337  0.041265  0.183928  0.185071  0.140647  1.000000   \n",
       "age    0.544341  0.263514  0.239528 -0.113970 -0.042163  0.036242  0.033561   \n",
       "class  0.221898  0.466581  0.065068  0.074752  0.130548  0.292695  0.173844   \n",
       "\n",
       "            age     class  \n",
       "preg   0.544341  0.221898  \n",
       "plas   0.263514  0.466581  \n",
       "pres   0.239528  0.065068  \n",
       "skin  -0.113970  0.074752  \n",
       "test  -0.042163  0.130548  \n",
       "mass   0.036242  0.292695  \n",
       "pedi   0.033561  0.173844  \n",
       "age    1.000000  0.238356  \n",
       "class  0.238356  1.000000  "
      ]
     },
     "execution_count": 8,
     "metadata": {},
     "output_type": "execute_result"
    }
   ],
   "source": [
    "data.corr()"
   ]
  },
  {
   "cell_type": "markdown",
   "metadata": {
    "cell_id": "00016-c6dc3dd2-3401-45f6-82f1-9b8d3db94077",
    "colab_type": "text",
    "deepnote_cell_type": "markdown",
    "id": "P_7xRF11h4Uf"
   },
   "source": [
    "What column has the highest correlation with class? Find the mean() value of that column"
   ]
  },
  {
   "cell_type": "code",
   "execution_count": null,
   "metadata": {
    "cell_id": "00017-b1dcf134-97de-42fa-ac10-96fe97db8e2c",
    "colab": {},
    "colab_type": "code",
    "deepnote_cell_type": "code",
    "id": "clb2Gh8Mn9d4"
   },
   "outputs": [
    {
     "name": "stdout",
     "output_type": "stream",
     "text": [
      "Correlations with 'class':\n",
      "class    1.000000\n",
      "plas     0.466581\n",
      "mass     0.292695\n",
      "age      0.238356\n",
      "preg     0.221898\n",
      "pedi     0.173844\n",
      "test     0.130548\n",
      "skin     0.074752\n",
      "pres     0.065068\n",
      "Name: class, dtype: float64\n",
      "\n",
      "Column with highest correlation to 'class': plas\n",
      "Mean value of 'plas': 120.89\n"
     ]
    }
   ],
   "source": [
    "correlations = data.corr()['class'].sort_values(ascending=False)\n",
    "print(\"Correlations with 'class':\")\n",
    "print(correlations)\n",
    "print()\n",
    "\n",
    "highest_corr_column = correlations.index[1]\n",
    "print(f\"Column with highest correlation to 'class': {highest_corr_column}\")\n",
    "print(f\"Mean value of '{highest_corr_column}': {data[highest_corr_column].mean():.2f}\")"
   ]
  },
  {
   "cell_type": "markdown",
   "metadata": {
    "cell_id": "00018-fd63fcb2-c10a-4a26-b428-e30348fe833a",
    "colab_type": "text",
    "deepnote_cell_type": "markdown",
    "id": "64yWhAARoWw-"
   },
   "source": [
    "Create a new dataframe with only people that are above the mean found in the above cell."
   ]
  },
  {
   "cell_type": "code",
   "execution_count": null,
   "metadata": {
    "cell_id": "00019-8b938a90-7bd5-4ba2-92f1-4df4ffc190e0",
    "colab": {},
    "colab_type": "code",
    "deepnote_cell_type": "code",
    "id": "HRLjs3agkdPY"
   },
   "outputs": [
    {
     "name": "stdout",
     "output_type": "stream",
     "text": [
      "Original dataframe size: 768\n",
      "Filtered dataframe size (above mean plas): 349\n",
      "\n",
      "First few rows:\n",
      "   preg  plas  pres  skin  test  mass   pedi  age  class\n",
      "0     6   148    72    35     0  33.6  0.627   50      1\n",
      "2     8   183    64     0     0  23.3  0.672   32      1\n",
      "4     0   137    40    35   168  43.1  2.288   33      1\n",
      "8     2   197    70    45   543  30.5  0.158   53      1\n",
      "9     8   125    96     0     0   0.0  0.232   54      1\n"
     ]
    }
   ],
   "source": [
    "mean_value = data[highest_corr_column].mean()\n",
    "above_mean_df = data[data[highest_corr_column] > mean_value]\n",
    "print(f\"Original dataframe size: {len(data)}\")\n",
    "print(f\"Filtered dataframe size (above mean {highest_corr_column}): {len(above_mean_df)}\")\n",
    "print(f\"\\nFirst few rows:\")\n",
    "print(above_mean_df.head())"
   ]
  },
  {
   "cell_type": "markdown",
   "metadata": {
    "cell_id": "00020-d5d0c3ea-9655-4aa2-97dd-4bf3a09e357f",
    "colab_type": "text",
    "deepnote_cell_type": "markdown",
    "id": "RxGIQp0JrUnq"
   },
   "source": [
    "Create a new dataframe that only includes people who are above the average value for each column in the dataset. In other words, find the average value for each column, and then find which users have values above all of these average column values."
   ]
  },
  {
   "cell_type": "code",
   "execution_count": null,
   "metadata": {
    "cell_id": "00021-064e8e41-d624-434c-a65a-392e463c840e",
    "colab": {},
    "colab_type": "code",
    "deepnote_cell_type": "code",
    "id": "Ylf4p6NNrfME"
   },
   "outputs": [
    {
     "name": "stdout",
     "output_type": "stream",
     "text": [
      "Mean values for each column:\n",
      "preg       3.845052\n",
      "plas     120.894531\n",
      "pres      69.105469\n",
      "skin      20.536458\n",
      "test      79.799479\n",
      "mass      31.992578\n",
      "pedi       0.471876\n",
      "age       33.240885\n",
      "class      0.348958\n",
      "dtype: float64\n",
      "\n",
      "Number of people above average in ALL columns: 16\n",
      "\n",
      "These exceptional individuals:\n",
      "     preg  plas  pres  skin  test  mass   pedi  age  class\n",
      "43      9   171   110    24   240  45.4  0.721   54      1\n",
      "152     9   156    86    28   155  34.3  1.189   42      1\n",
      "159    17   163    72    41   114  40.9  0.817   47      1\n",
      "175     8   179    72    42   130  32.7  0.719   36      1\n",
      "206     8   196    76    29   280  37.5  0.605   57      1\n",
      "215    12   151    70    40   271  41.8  0.742   38      1\n",
      "236     7   181    84    21   192  35.9  0.586   51      1\n",
      "259    11   155    76    28   150  33.3  1.353   51      1\n",
      "375    12   140    82    43   325  39.2  0.528   58      1\n",
      "424     8   151    78    32   210  42.9  0.516   36      1\n",
      "458    10   148    84    48   237  37.6  1.001   51      1\n",
      "546     5   187    76    27   207  43.6  1.034   53      1\n",
      "603     7   150    78    29   126  35.2  0.692   54      1\n",
      "612     7   168    88    42   321  38.2  0.787   40      1\n",
      "614    11   138    74    26   144  36.1  0.557   50      1\n",
      "663     9   145    80    46   130  37.9  0.637   40      1\n"
     ]
    }
   ],
   "source": [
    "means = data.mean()\n",
    "print(\"Mean values for each column:\")\n",
    "print(means)\n",
    "print()\n",
    "\n",
    "mask = (data > means).all(axis=1)\n",
    "above_all_means_df = data[mask]\n",
    "\n",
    "print(f\"Number of people above average in ALL columns: {len(above_all_means_df)}\")\n",
    "print(f\"\\nThese exceptional individuals:\")\n",
    "print(above_all_means_df)"
   ]
  },
  {
   "cell_type": "markdown",
   "metadata": {
    "cell_id": "00022-a1b28b03-6953-469c-a45d-80d21b3d36f6",
    "colab_type": "text",
    "deepnote_cell_type": "markdown",
    "id": "Cy_6ce7_8qAB"
   },
   "source": [
    "*Note: the next 3 problems were not explicitly shown in our tutorial—being able to effectively google and look through documentation is a very important coding tool!* ¯\\\\\\_(ツ)_/¯"
   ]
  },
  {
   "cell_type": "markdown",
   "metadata": {
    "cell_id": "00023-818ed759-16d8-4469-8fcb-19c412faa4c9",
    "colab_type": "text",
    "deepnote_cell_type": "markdown",
    "id": "24pCgP2xbCwZ"
   },
   "source": [
    "Ignoring the index (resetting the index to 0) and using the dataframe from the cell above, sort the values based on `\"skin\"`, `\"test\"`, and `\"pedi\"` values in ascending order. Please write this in one line."
   ]
  },
  {
   "cell_type": "code",
   "execution_count": null,
   "metadata": {
    "cell_id": "00024-1c8fa3ef-1628-44ef-bef7-554c548fea45",
    "colab": {},
    "colab_type": "code",
    "deepnote_cell_type": "code",
    "id": "wXZysbVwa7i5"
   },
   "outputs": [
    {
     "name": "stdout",
     "output_type": "stream",
     "text": [
      "    preg  plas  pres  skin  test  mass   pedi  age  class\n",
      "0      7   181    84    21   192  35.9  0.586   51      1\n",
      "1      9   171   110    24   240  45.4  0.721   54      1\n",
      "2     11   138    74    26   144  36.1  0.557   50      1\n",
      "3      5   187    76    27   207  43.6  1.034   53      1\n",
      "4     11   155    76    28   150  33.3  1.353   51      1\n",
      "5      9   156    86    28   155  34.3  1.189   42      1\n",
      "6      7   150    78    29   126  35.2  0.692   54      1\n",
      "7      8   196    76    29   280  37.5  0.605   57      1\n",
      "8      8   151    78    32   210  42.9  0.516   36      1\n",
      "9     12   151    70    40   271  41.8  0.742   38      1\n",
      "10    17   163    72    41   114  40.9  0.817   47      1\n",
      "11     8   179    72    42   130  32.7  0.719   36      1\n",
      "12     7   168    88    42   321  38.2  0.787   40      1\n",
      "13    12   140    82    43   325  39.2  0.528   58      1\n",
      "14     9   145    80    46   130  37.9  0.637   40      1\n",
      "15    10   148    84    48   237  37.6  1.001   51      1\n"
     ]
    }
   ],
   "source": [
    "sorted_df = above_all_means_df.sort_values(by=['skin', 'test', 'pedi'], ascending=True).reset_index(drop=True)\n",
    "print(sorted_df)"
   ]
  },
  {
   "cell_type": "markdown",
   "metadata": {
    "cell_id": "00025-31c03cc1-a702-4c90-89f0-dab8fb9b51bf",
    "colab_type": "text",
    "deepnote_cell_type": "markdown",
    "id": "BIJkXsK4ch-u"
   },
   "source": [
    "Now let's find the 4 largest values for `\"age\"`"
   ]
  },
  {
   "cell_type": "code",
   "execution_count": null,
   "metadata": {
    "cell_id": "00026-9728e4ca-d0d3-4d8c-a818-707a90e9e5d3",
    "colab": {},
    "colab_type": "code",
    "deepnote_cell_type": "code",
    "id": "kSl28jLLdAF9"
   },
   "outputs": [
    {
     "name": "stdout",
     "output_type": "stream",
     "text": [
      "4 largest values for 'age':\n",
      "     preg  plas  pres  skin  test  mass   pedi  age  class\n",
      "459     9   134    74    33    60  25.9  0.460   81      0\n",
      "453     2   119     0     0     0  19.6  0.832   72      0\n",
      "666     4   145    82    18     0  32.5  0.235   70      1\n",
      "123     5   132    80     0     0  26.8  0.186   69      0\n"
     ]
    }
   ],
   "source": [
    "largest_ages = data.nlargest(4, 'age')\n",
    "print(\"4 largest values for 'age':\")\n",
    "print(largest_ages)"
   ]
  },
  {
   "cell_type": "markdown",
   "metadata": {
    "cell_id": "00027-a5e12cb1-a313-47bf-9640-256181c460ad",
    "colab_type": "text",
    "deepnote_cell_type": "markdown",
    "id": "fJRwe8UfqvNG"
   },
   "source": [
    "Now find the smallest 4 values for `\"pedi\"` and `\"plas\"` in reverse order (smallest to largest)."
   ]
  },
  {
   "cell_type": "code",
   "execution_count": null,
   "metadata": {
    "cell_id": "00028-2add4c0a-65b7-424e-a4d9-756817979e60",
    "colab": {},
    "colab_type": "code",
    "deepnote_cell_type": "code",
    "id": "icQcbPg1quNI"
   },
   "outputs": [
    {
     "name": "stdout",
     "output_type": "stream",
     "text": [
      "4 smallest values for 'pedi' and 'plas' (in reverse order):\n",
      "     preg  plas  pres  skin  test  mass   pedi  age  class\n",
      "268     0   102    52     0     0  25.1  0.078   21      0\n",
      "180     6    87    80     0     0  23.2  0.084   32      0\n",
      "149     2    90    70    17     0  27.3  0.085   22      0\n",
      "567     6    92    62    32   126  32.0  0.085   46      0\n"
     ]
    }
   ],
   "source": [
    "smallest_values = data.nsmallest(4, ['pedi', 'plas'], keep='first')\n",
    "print(\"4 smallest values for 'pedi' and 'plas' (in reverse order):\")\n",
    "print(smallest_values)"
   ]
  },
  {
   "cell_type": "markdown",
   "metadata": {
    "created_in_deepnote_cell": true,
    "deepnote_cell_type": "markdown",
    "tags": []
   },
   "source": [
    "<a style='text-decoration:none;line-height:16px;display:flex;color:#5B5B62;padding:10px;justify-content:end;' href='https://deepnote.com?utm_source=created-in-deepnote-cell&projectId=f3d2e979-42f4-4fa4-a66a-116a1c2662d5' target=\"_blank\">\n",
    "<img alt='Created in deepnote.com' style='display:inline;max-height:16px;margin:0px;margin-right:7.5px;' src='data:image/svg+xml;base64,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' > </img>\n",
    "Created in <span style='font-weight:600;margin-left:4px;'>Deepnote</span></a>"
   ]
  }
 ],
 "metadata": {
  "colab": {
   "collapsed_sections": [],
   "name": "Pandas_Exercises",
   "provenance": []
  },
  "deepnote": {},
  "deepnote_execution_queue": [],
  "deepnote_notebook_id": "86faf811-6ae2-4018-b15f-d354237ab127",
  "kernelspec": {
   "display_name": "Python 3",
   "language": "python",
   "name": "python3"
  },
  "language_info": {
   "codemirror_mode": {
    "name": "ipython",
    "version": 3
   },
   "file_extension": ".py",
   "mimetype": "text/x-python",
   "name": "python",
   "nbconvert_exporter": "python",
   "pygments_lexer": "ipython3",
   "version": "3.13.2"
  }
 },
 "nbformat": 4,
 "nbformat_minor": 0
}
